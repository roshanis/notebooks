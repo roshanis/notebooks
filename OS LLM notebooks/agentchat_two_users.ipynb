{
  "cells": [
    {
      "cell_type": "markdown",
      "metadata": {
        "id": "view-in-github",
        "colab_type": "text"
      },
      "source": [
        "<a href=\"https://colab.research.google.com/github/roshanis/notebooks/blob/main/agentchat_two_users.ipynb\" target=\"_parent\"><img src=\"https://colab.research.google.com/assets/colab-badge.svg\" alt=\"Open In Colab\"/></a>"
      ]
    },
    {
      "cell_type": "markdown",
      "metadata": {
        "id": "Eypx-ybmsG2j"
      },
      "source": [
        "<a href=\"https://colab.research.google.com/github/microsoft/autogen/blob/main/notebook/agentchat_two_users.ipynb\" target=\"_parent\"><img src=\"https://colab.research.google.com/assets/colab-badge.svg\" alt=\"Open In Colab\"/></a>"
      ]
    },
    {
      "cell_type": "markdown",
      "metadata": {
        "id": "WMnoLAp1sG2n"
      },
      "source": [
        "# Auto Generated Agent Chat: Collaborative Task Solving with Multiple Agents and Human Users\n",
        "\n",
        "AutoGen offers conversable agents powered by LLM, tool or human, which can be used to perform tasks collectively via automated chat. This framwork allows tool use and human participance through multi-agent conversation. Please find documentation about this feature [here](https://microsoft.github.io/autogen/docs/Use-Cases/agent_chat).\n",
        "\n",
        "In this notebook, we demonstrate an application involving multiple agents and human users to work together and accomplish a task. `AssistantAgent` is an LLM-based agent that can write Python code (in a Python coding block) for a user to execute for a given task. `UserProxyAgent` is an agent which serves as a proxy for a user to execute the code written by `AssistantAgent`. We create multiple `UserProxyAgent` instances which can represent different human users.\n",
        "\n",
        "## Requirements\n",
        "\n",
        "AutoGen requires `Python>=3.8`. To run this notebook example, please install:\n",
        "```bash\n",
        "pip install ag2\n",
        "```"
      ]
    },
    {
      "cell_type": "code",
      "execution_count": 14,
      "metadata": {
        "execution": {
          "iopub.execute_input": "2023-02-13T23:40:52.317406Z",
          "iopub.status.busy": "2023-02-13T23:40:52.316561Z",
          "iopub.status.idle": "2023-02-13T23:40:52.321193Z",
          "shell.execute_reply": "2023-02-13T23:40:52.320628Z"
        },
        "id": "T0uZbjepsG2o",
        "outputId": "7ca4130e-f506-4ba5-dd5f-ed9eb652ef89",
        "colab": {
          "base_uri": "https://localhost:8080/"
        }
      },
      "outputs": [
        {
          "output_type": "stream",
          "name": "stdout",
          "text": [
            "Requirement already satisfied: ag2~=0.1.1 in /usr/local/lib/python3.10/dist-packages (0.1.5)\n",
            "Requirement already satisfied: diskcache in /usr/local/lib/python3.10/dist-packages (from ag2~=0.1.1) (5.6.3)\n",
            "Requirement already satisfied: flaml in /usr/local/lib/python3.10/dist-packages (from ag2~=0.1.1) (2.1.1)\n",
            "Requirement already satisfied: openai in /usr/local/lib/python3.10/dist-packages (from ag2~=0.1.1) (0.28.1)\n",
            "Requirement already satisfied: termcolor in /usr/local/lib/python3.10/dist-packages (from ag2~=0.1.1) (2.3.0)\n",
            "Requirement already satisfied: NumPy>=1.17.0rc1 in /usr/local/lib/python3.10/dist-packages (from flaml->ag2~=0.1.1) (1.23.5)\n",
            "Requirement already satisfied: requests>=2.20 in /usr/local/lib/python3.10/dist-packages (from openai->ag2~=0.1.1) (2.31.0)\n",
            "Requirement already satisfied: tqdm in /usr/local/lib/python3.10/dist-packages (from openai->ag2~=0.1.1) (4.66.1)\n",
            "Requirement already satisfied: aiohttp in /usr/local/lib/python3.10/dist-packages (from openai->ag2~=0.1.1) (3.8.5)\n",
            "Requirement already satisfied: charset-normalizer<4,>=2 in /usr/local/lib/python3.10/dist-packages (from requests>=2.20->openai->ag2~=0.1.1) (3.2.0)\n",
            "Requirement already satisfied: idna<4,>=2.5 in /usr/local/lib/python3.10/dist-packages (from requests>=2.20->openai->ag2~=0.1.1) (3.4)\n",
            "Requirement already satisfied: urllib3<3,>=1.21.1 in /usr/local/lib/python3.10/dist-packages (from requests>=2.20->openai->ag2~=0.1.1) (2.0.4)\n",
            "Requirement already satisfied: certifi>=2017.4.17 in /usr/local/lib/python3.10/dist-packages (from requests>=2.20->openai->ag2~=0.1.1) (2023.7.22)\n",
            "Requirement already satisfied: attrs>=17.3.0 in /usr/local/lib/python3.10/dist-packages (from aiohttp->openai->ag2~=0.1.1) (23.1.0)\n",
            "Requirement already satisfied: multidict<7.0,>=4.5 in /usr/local/lib/python3.10/dist-packages (from aiohttp->openai->ag2~=0.1.1) (6.0.4)\n",
            "Requirement already satisfied: async-timeout<5.0,>=4.0.0a3 in /usr/local/lib/python3.10/dist-packages (from aiohttp->openai->ag2~=0.1.1) (4.0.3)\n",
            "Requirement already satisfied: yarl<2.0,>=1.0 in /usr/local/lib/python3.10/dist-packages (from aiohttp->openai->ag2~=0.1.1) (1.9.2)\n",
            "Requirement already satisfied: frozenlist>=1.1.1 in /usr/local/lib/python3.10/dist-packages (from aiohttp->openai->ag2~=0.1.1) (1.4.0)\n",
            "Requirement already satisfied: aiosignal>=1.1.2 in /usr/local/lib/python3.10/dist-packages (from aiohttp->openai->ag2~=0.1.1) (1.3.1)\n",
            "Requirement already satisfied: openai in /usr/local/lib/python3.10/dist-packages (0.28.1)\n",
            "Requirement already satisfied: requests>=2.20 in /usr/local/lib/python3.10/dist-packages (from openai) (2.31.0)\n",
            "Requirement already satisfied: tqdm in /usr/local/lib/python3.10/dist-packages (from openai) (4.66.1)\n",
            "Requirement already satisfied: aiohttp in /usr/local/lib/python3.10/dist-packages (from openai) (3.8.5)\n",
            "Requirement already satisfied: charset-normalizer<4,>=2 in /usr/local/lib/python3.10/dist-packages (from requests>=2.20->openai) (3.2.0)\n",
            "Requirement already satisfied: idna<4,>=2.5 in /usr/local/lib/python3.10/dist-packages (from requests>=2.20->openai) (3.4)\n",
            "Requirement already satisfied: urllib3<3,>=1.21.1 in /usr/local/lib/python3.10/dist-packages (from requests>=2.20->openai) (2.0.4)\n",
            "Requirement already satisfied: certifi>=2017.4.17 in /usr/local/lib/python3.10/dist-packages (from requests>=2.20->openai) (2023.7.22)\n",
            "Requirement already satisfied: attrs>=17.3.0 in /usr/local/lib/python3.10/dist-packages (from aiohttp->openai) (23.1.0)\n",
            "Requirement already satisfied: multidict<7.0,>=4.5 in /usr/local/lib/python3.10/dist-packages (from aiohttp->openai) (6.0.4)\n",
            "Requirement already satisfied: async-timeout<5.0,>=4.0.0a3 in /usr/local/lib/python3.10/dist-packages (from aiohttp->openai) (4.0.3)\n",
            "Requirement already satisfied: yarl<2.0,>=1.0 in /usr/local/lib/python3.10/dist-packages (from aiohttp->openai) (1.9.2)\n",
            "Requirement already satisfied: frozenlist>=1.1.1 in /usr/local/lib/python3.10/dist-packages (from aiohttp->openai) (1.4.0)\n",
            "Requirement already satisfied: aiosignal>=1.1.2 in /usr/local/lib/python3.10/dist-packages (from aiohttp->openai) (1.3.1)\n",
            "\u001b[31mERROR: Could not find a version that satisfies the requirement os (from versions: none)\u001b[0m\u001b[31m\n",
            "\u001b[0m\u001b[31mERROR: No matching distribution found for os\u001b[0m\u001b[31m\n",
            "\u001b[0m"
          ]
        }
      ],
      "source": [
        "!pip install ag2~=0.1.1\n",
        "!pip install openai\n",
        "!pip install os\n",
        "\n",
        "import os\n",
        "import openai\n",
        "\n",
        "OPENAI_API_KEY = \"sk-\"\n",
        "openai.api_key = OPENAI_API_KEY\n"
      ]
    },
    {
      "cell_type": "markdown",
      "metadata": {
        "id": "52tiPswCsG2p"
      },
      "source": [
        "## Set your API Endpoint\n",
        "\n",
        "The [`config_list_from_json`](https://microsoft.github.io/autogen/docs/reference/oai/openai_utils#config_list_from_json) function loads a list of configurations from an environment variable or a json file.\n",
        "\n",
        "It first looks for an environment variable of a specified name (\"OAI_CONFIG_LIST\" in this example) which needs to be a valid json string. If that variable is not found, it then looks for a json file with the same name. It filters the configs by models (you can filter by other keys as well).\n",
        "\n",
        "The json looks like the following:\n",
        "```json\n",
        "[\n",
        "    {\n",
        "        \"model\": \"gpt-4\",\n",
        "        \"api_key\": \"<your OpenAI API key here>\"\n",
        "    },\n",
        "    {\n",
        "        \"model\": \"gpt-4\",\n",
        "        \"api_key\": \"<your Azure OpenAI API key here>\",\n",
        "        \"api_base\": \"<your Azure OpenAI API base here>\",\n",
        "        \"api_type\": \"azure\",\n",
        "        \"api_version\": \"2023-07-01-preview\"\n",
        "    },\n",
        "    {\n",
        "        \"model\": \"gpt-4-32k\",\n",
        "        \"api_key\": \"<your Azure OpenAI API key here>\",\n",
        "        \"api_base\": \"<your Azure OpenAI API base here>\",\n",
        "        \"api_type\": \"azure\",\n",
        "        \"api_version\": \"2023-07-01-preview\"\n",
        "    }\n",
        "]\n",
        "```\n",
        "\n",
        "If you open this notebook in colab, you can upload your files by clicking the file icon on the left panel and then choose \"upload file\" icon.\n"
      ]
    },
    {
      "cell_type": "code",
      "execution_count": 15,
      "metadata": {
        "id": "1u5vM4HrsG2q"
      },
      "outputs": [],
      "source": [
        "import autogen\n",
        "\n",
        "config_list = autogen.config_list_from_json(\n",
        "    \"OAI_CONFIG_LIST\",\n",
        "    filter_dict={\n",
        "        \"model\": [\"gpt-4\", \"gpt4\", \"gpt-4-32k\", \"gpt-4-32k-0314\", \"gpt-4-32k-v0314\"],\n",
        "    },\n",
        ")"
      ]
    },
    {
      "cell_type": "markdown",
      "metadata": {
        "id": "ATJ2sq1HsG2q"
      },
      "source": [
        "## Construct Agents\n",
        "\n",
        "We define `ask_expert` function to start a conversation between two agents and return a summary of the result. We construct an assistant agent named \"assistant_for_expert\" and a user proxy agent named \"expert\". We specify `human_input_mode` as \"ALWAYS\" in the user proxy agent, which will always ask for feedback from the expert user."
      ]
    },
    {
      "cell_type": "code",
      "execution_count": 16,
      "metadata": {
        "id": "JstkoFy8sG2q"
      },
      "outputs": [],
      "source": [
        "def ask_expert(message):\n",
        "    assistant_for_expert = autogen.AssistantAgent(\n",
        "        name=\"assistant_for_expert\",\n",
        "        llm_config={\n",
        "            \"temperature\": 0,\n",
        "            \"config_list\": config_list,\n",
        "        },\n",
        "    )\n",
        "    expert = autogen.UserProxyAgent(\n",
        "        name=\"expert\",\n",
        "        human_input_mode=\"ALWAYS\",\n",
        "        code_execution_config={\"work_dir\": \"expert\"},\n",
        "    )\n",
        "\n",
        "    expert.initiate_chat(assistant_for_expert, message=message)\n",
        "    expert.stop_reply_at_receive(assistant_for_expert)\n",
        "    # expert.human_input_mode, expert.max_consecutive_auto_reply = \"NEVER\", 0\n",
        "    # final message sent from the expert\n",
        "    expert.send(\"summarize the solution and explain the answer in an easy-to-understand way\", assistant_for_expert)\n",
        "    # return the last message the expert received\n",
        "    return expert.last_message()[\"content\"]\n"
      ]
    },
    {
      "cell_type": "markdown",
      "metadata": {
        "id": "_b6BmjFNsG2r"
      },
      "source": [
        "We construct another assistant agent named \"assistant_for_student\" and a user proxy agent named \"student\". We specify `human_input_mode` as \"TERMINATE\" in the user proxy agent, which will ask for feedback when it receives a \"TERMINATE\" signal from the assistant agent. We set the `functions` in `AssistantAgent` and `function_map` in `UserProxyAgent` to use the created `ask_expert` function.\n",
        "\n",
        "For simplicity, the `ask_expert` function is defined to run locally. For real applications, the function should run remotely to interact with an expert user."
      ]
    },
    {
      "cell_type": "code",
      "execution_count": 17,
      "metadata": {
        "id": "b8WfYxFrsG2r"
      },
      "outputs": [],
      "source": [
        "assistant_for_student = autogen.AssistantAgent(\n",
        "    name=\"assistant_for_student\",\n",
        "    system_message=\"You are a skeptical assistant and need lot of convincing. Reply TERMINATE when the task is done.\",\n",
        "    llm_config={\n",
        "        \"request_timeout\": 600,\n",
        "        \"seed\": 42,\n",
        "        # Excluding azure openai endpoints from the config list.\n",
        "        # Change to `exclude=\"openai\"` to exclude openai endpoints, or remove the `exclude` argument to include both.\n",
        "        \"config_list\": autogen.config_list_openai_aoai(exclude=\"aoai\"),\n",
        "        \"model\": \"gpt-4-0613\",  # make sure the endpoint you use supports the model\n",
        "        \"temperature\": 0,\n",
        "        \"functions\": [\n",
        "            {\n",
        "                \"name\": \"ask_expert\",\n",
        "                \"description\": \"ask expert when you can't solve the problem satisfactorily.\",\n",
        "                \"parameters\": {\n",
        "                    \"type\": \"object\",\n",
        "                    \"properties\": {\n",
        "                        \"message\": {\n",
        "                            \"type\": \"string\",\n",
        "                            \"description\": \"question to ask expert. Make sure the question include enough context, such as the code and the execution result. The expert does not know the conversation between you and the user, unless you share the conversation with the expert.\",\n",
        "                        },\n",
        "                    },\n",
        "                    \"required\": [\"message\"],\n",
        "                },\n",
        "            }\n",
        "        ],\n",
        "    }\n",
        ")\n",
        "\n",
        "student = autogen.UserProxyAgent(\n",
        "    name=\"student\",\n",
        "    human_input_mode=\"TERMINATE\",\n",
        "    max_consecutive_auto_reply=10,\n",
        "    code_execution_config={\"work_dir\": \"student\"},\n",
        "    function_map={\"ask_expert\": ask_expert},\n",
        ")"
      ]
    },
    {
      "cell_type": "markdown",
      "metadata": {
        "id": "bwB02vW8sG2r"
      },
      "source": [
        "## Perform a task\n",
        "\n",
        "We invoke the `initiate_chat()` method of the student proxy agent to start the conversation. When you run the cell below, you will be prompted to provide feedback after the assistant agent sends a \"TERMINATE\" signal in the end of the message. If you don't provide any feedback (by pressing Enter directly), the conversation will finish. Before the \"TERMINATE\" signal, the student proxy agent will try to execute the code suggested by the assistant agent on behalf of the user."
      ]
    },
    {
      "cell_type": "code",
      "execution_count": null,
      "metadata": {
        "id": "x1cNkfWWsG2s",
        "outputId": "ae38e65e-882d-4ca5-e2f8-26d504d9af9e",
        "colab": {
          "base_uri": "https://localhost:8080/"
        }
      },
      "outputs": [
        {
          "output_type": "stream",
          "name": "stdout",
          "text": [
            "student (to assistant_for_student):\n",
            "\n",
            "Can you help me convince a diabetics patient to take his medicines\n",
            "\n",
            "\n",
            "--------------------------------------------------------------------------------\n",
            "assistant_for_student (to student):\n",
            "\n",
            "Sure, I can provide some points that might help convince a diabetic patient to take their medication. However, it's important to remember that the decision ultimately lies with the patient. Here are some points:\n",
            "\n",
            "1. Explain the Importance of Medication: Explain that diabetes is a chronic condition and that the medication helps to manage the blood sugar levels. Without medication, these levels can become too high or too low, leading to serious health complications.\n",
            "\n",
            "2. Discuss the Consequences: Talk about the potential complications of uncontrolled diabetes, such as heart disease, kidney damage, nerve damage, and vision loss. This might help them understand the seriousness of the condition.\n",
            "\n",
            "3. Encourage Regular Check-ups: Regular check-ups can help monitor the effectiveness of the medication and adjust dosages if necessary. This can also provide reassurance to the patient that they are being closely monitored.\n",
            "\n",
            "4. Address Concerns: If the patient is hesitant to take medication due to side effects or other concerns, address these issues. Discuss the benefits and risks, and reassure them that the doctor has prescribed the best medication for their condition.\n",
            "\n",
            "5. Lifestyle Changes: Encourage the patient to make lifestyle changes alongside taking medication. This includes a healthy diet, regular exercise, and avoiding smoking and excessive alcohol.\n",
            "\n",
            "Remember, it's important to approach this conversation with empathy and understanding. The patient may be feeling scared or overwhelmed, and it's crucial to provide support and reassurance.\n",
            "\n",
            "--------------------------------------------------------------------------------\n",
            "\n",
            ">>>>>>>> USING AUTO REPLY...\n",
            "student (to assistant_for_student):\n",
            "\n",
            "\n",
            "\n",
            "--------------------------------------------------------------------------------\n",
            "assistant_for_student (to student):\n",
            "\n",
            "***** Suggested function Call: ask_expert *****\n",
            "Arguments: \n",
            "{\n",
            "  \"message\": \"Can you provide more effective ways to convince a diabetic patient to take their medication regularly? The patient seems to be skeptical about the importance and effectiveness of the medication.\"\n",
            "}\n",
            "***********************************************\n",
            "\n",
            "--------------------------------------------------------------------------------\n",
            "\n",
            ">>>>>>>> USING AUTO REPLY...\n",
            "\n",
            ">>>>>>>> EXECUTING FUNCTION ask_expert...\n",
            "expert (to assistant_for_expert):\n",
            "\n",
            "Can you provide more effective ways to convince a diabetic patient to take their medication regularly? The patient seems to be skeptical about the importance and effectiveness of the medication.\n",
            "\n",
            "--------------------------------------------------------------------------------\n",
            "assistant_for_expert (to expert):\n",
            "\n",
            "As an AI, I can suggest a few strategies that might help convince a diabetic patient to take their medication regularly. However, it's important to remember that each person is unique and what works for one might not work for another. Here are some strategies:\n",
            "\n",
            "1. **Education**: Educate the patient about diabetes, its complications, and the role of medication in managing the disease. Explain how the medication works and why it's important to take it regularly.\n",
            "\n",
            "2. **Empathy**: Understand the patient's concerns and fears about the medication. Address these concerns with empathy and provide reassurance.\n",
            "\n",
            "3. **Involve them in decision making**: Make the patient feel involved in their treatment plan. Discuss the different medication options and their pros and cons. Let them have a say in choosing the medication.\n",
            "\n",
            "4. **Set realistic expectations**: Let the patient know that the medication might not show immediate results and that it's a long-term commitment. Also, discuss the possible side effects and how to manage them.\n",
            "\n",
            "5. **Use of technology**: Encourage the use of medication reminders on their phone or other devices. There are also apps available that can help track medication intake and blood sugar levels.\n",
            "\n",
            "6. **Regular follow-ups**: Regular follow-ups can help monitor the patient's progress and make necessary adjustments to the treatment plan. This also shows the patient that you care about their health and well-being.\n",
            "\n",
            "7. **Support groups**: Encourage the patient to join a support group where they can share their experiences and learn from others who are going through the same journey.\n",
            "\n",
            "Remember, it's important to maintain a positive and supportive approach. Criticism or blame might make the patient more resistant to taking their medication. \n",
            "\n",
            "TERMINATE\n",
            "\n",
            "--------------------------------------------------------------------------------\n",
            "Provide feedback to assistant_for_expert. Press enter to skip and use auto-reply, or type 'exit' to end the conversation: \n",
            "\n",
            ">>>>>>>> NO HUMAN INPUT RECEIVED.\n",
            "\n",
            ">>>>>>>> USING AUTO REPLY...\n",
            "expert (to assistant_for_expert):\n",
            "\n",
            "\n",
            "\n",
            "--------------------------------------------------------------------------------\n",
            "assistant_for_expert (to expert):\n",
            "\n",
            "TERMINATE\n",
            "\n",
            "--------------------------------------------------------------------------------\n",
            "Provide feedback to assistant_for_expert. Press enter to skip and use auto-reply, or type 'exit' to end the conversation: exit\n",
            "expert (to assistant_for_expert):\n",
            "\n",
            "summarize the solution and explain the answer in an easy-to-understand way\n",
            "\n",
            "--------------------------------------------------------------------------------\n",
            "assistant_for_expert (to expert):\n",
            "\n",
            "Sure, here's a simplified explanation of the strategies to convince a diabetic patient to take their medication regularly:\n",
            "\n",
            "1. **Teach them about diabetes**: Explain what diabetes is, what can happen if it's not managed well, and how the medication helps.\n",
            "\n",
            "2. **Listen and reassure**: Understand their worries about the medication. Explain that these concerns are normal and reassure them about the safety and effectiveness of the medication.\n",
            "\n",
            "3. **Let them be part of the process**: Discuss the different medicines available and let them help choose the one they will take. This can make them feel more in control.\n",
            "\n",
            "4. **Be honest about the medication**: Explain that the medicine might not show immediate results and that they might experience some side effects. But also reassure them that these can be managed.\n",
            "\n",
            "5. **Use reminders**: Suggest using phone alarms or apps to remind them to take their medication.\n",
            "\n",
            "6. **Check on them regularly**: Regular check-ups can help see how they're doing and make any necessary changes to their treatment.\n",
            "\n",
            "7. **Encourage them to join a group**: Being part of a group with other people who have diabetes can provide support and shared experiences.\n",
            "\n",
            "Remember, it's important to be positive and supportive. Blaming or criticizing them might make them less willing to take their medication.\n",
            "\n",
            "TERMINATE\n",
            "\n",
            "--------------------------------------------------------------------------------\n",
            "student (to assistant_for_student):\n",
            "\n",
            "***** Response from calling function \"ask_expert\" *****\n",
            "Sure, here's a simplified explanation of the strategies to convince a diabetic patient to take their medication regularly:\n",
            "\n",
            "1. **Teach them about diabetes**: Explain what diabetes is, what can happen if it's not managed well, and how the medication helps.\n",
            "\n",
            "2. **Listen and reassure**: Understand their worries about the medication. Explain that these concerns are normal and reassure them about the safety and effectiveness of the medication.\n",
            "\n",
            "3. **Let them be part of the process**: Discuss the different medicines available and let them help choose the one they will take. This can make them feel more in control.\n",
            "\n",
            "4. **Be honest about the medication**: Explain that the medicine might not show immediate results and that they might experience some side effects. But also reassure them that these can be managed.\n",
            "\n",
            "5. **Use reminders**: Suggest using phone alarms or apps to remind them to take their medication.\n",
            "\n",
            "6. **Check on them regularly**: Regular check-ups can help see how they're doing and make any necessary changes to their treatment.\n",
            "\n",
            "7. **Encourage them to join a group**: Being part of a group with other people who have diabetes can provide support and shared experiences.\n",
            "\n",
            "Remember, it's important to be positive and supportive. Blaming or criticizing them might make them less willing to take their medication.\n",
            "\n",
            "TERMINATE\n",
            "*******************************************************\n",
            "\n",
            "--------------------------------------------------------------------------------\n",
            "assistant_for_student (to student):\n",
            "\n",
            "Here are some additional strategies to convince a diabetic patient to take their medication regularly:\n",
            "\n",
            "1. **Educate them about Diabetes**: It's important to explain what diabetes is, how it affects their body, and the role of medication in managing it. This understanding can help them see the importance of their medication.\n",
            "\n",
            "2. **Listen and Reassure**: Understand their concerns about the medication. It's normal to have worries, and it's important to reassure them about the safety and effectiveness of their medication.\n",
            "\n",
            "3. **Involve them in the Process**: Discuss the different medications available and let them be part of the decision-making process. This can give them a sense of control and ownership over their treatment.\n",
            "\n",
            "4. **Be Honest about the Medication**: It's crucial to explain that the medication might not show immediate results and that they might experience some side effects. However, reassure them that these side effects can be managed and that the benefits of the medication outweigh the potential downsides.\n",
            "\n",
            "5. **Use Reminders**: Suggest using phone alarms or medication reminder apps to help them remember to take their medication.\n",
            "\n",
            "6. **Regular Check-ups**: Regular check-ups can help monitor their progress and make any necessary adjustments to their treatment.\n",
            "\n",
            "7. **Encourage Support Groups**: Joining a support group with other people who have diabetes can provide emotional support and shared experiences.\n",
            "\n",
            "Remember, it's important to approach this conversation with positivity and support. Criticism or blame could make them less willing to take their medication. It's crucial to be patient and understanding throughout this process. \n",
            "\n",
            "TERMINATE\n",
            "\n",
            "--------------------------------------------------------------------------------\n",
            "\n",
            ">>>>>>>> USING AUTO REPLY...\n",
            "student (to assistant_for_student):\n",
            "\n",
            "\n",
            "\n",
            "--------------------------------------------------------------------------------\n",
            "assistant_for_student (to student):\n",
            "\n",
            "TERMINATE\n",
            "\n",
            "--------------------------------------------------------------------------------\n"
          ]
        }
      ],
      "source": [
        "# the assistant receives a message from the student, which contains the task description\n",
        "student.initiate_chat(\n",
        "    assistant_for_student,\n",
        "    message=\"\"\"Can you help me convince a diabetics patient to take his medicines\n",
        "\"\"\",\n",
        ")"
      ]
    },
    {
      "cell_type": "markdown",
      "metadata": {
        "id": "LZPVYQRxsG2t"
      },
      "source": [
        "When the assistant needs to consult the expert, it suggests a function call to `ask_expert`. When this happens, a line like the following will be displayed:\n",
        "\n",
        "***** Suggested function Call: ask_expert *****\n"
      ]
    }
  ],
  "metadata": {
    "kernelspec": {
      "display_name": "Python 3",
      "name": "python3"
    },
    "language_info": {
      "codemirror_mode": {
        "name": "ipython",
        "version": 3
      },
      "file_extension": ".py",
      "mimetype": "text/x-python",
      "name": "python",
      "nbconvert_exporter": "python",
      "pygments_lexer": "ipython3",
      "version": "3.9.17"
    },
    "vscode": {
      "interpreter": {
        "hash": "949777d72b0d2535278d3dc13498b2535136f6dfe0678499012e853ee9abcab1"
      }
    },
    "colab": {
      "provenance": [],
      "machine_shape": "hm",
      "gpuType": "A100",
      "include_colab_link": true
    }
  },
  "nbformat": 4,
  "nbformat_minor": 0
}